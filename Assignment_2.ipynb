{
  "cells": [
    {
      "cell_type": "code",
      "execution_count": null,
      "metadata": {
        "id": "fFxmSA7g99zH"
      },
      "outputs": [],
      "source": [
        "# 29th September 2023\n",
        "# CSC461 – Assignment2 – Regular Expressions\n",
        "# Muhammad Anas\n",
        "# Fa21-BSE-126\n",
        "# 1. Extract list of all words.\n",
        "# 2. Extract list of all words starting with a capital letter.\n",
        "# 3. Extract list of all words of length 5.\n",
        "# 4. Extract list of all words inside double quotes.\n",
        "# 5. Extract list of all vowels.\n",
        "# 6. Extract list of 3 letter words ending with letter ‘e’.\n",
        "# 7. Extract list of all words starting and ending with letter ‘b’.\n",
        "# 8. Remove all the punctuation marks from the text.\n",
        "# 9. Replace all words ending ‘n't’ to their full form ‘not’.\n",
        "# 10.Replace all the new lines with a single space."
      ]
    },
    {
      "cell_type": "code",
      "execution_count": null,
      "metadata": {
        "id": "0vhDNWtb-gL0"
      },
      "outputs": [],
      "source": [
        "#importing library\n",
        "\n",
        "import re\n",
        "import pandas as pd"
      ]
    },
    {
      "cell_type": "code",
      "execution_count": 37,
      "metadata": {
        "colab": {
          "base_uri": "https://localhost:8080/"
        },
        "id": "c_5W0e6PAAyX",
        "outputId": "7d9d33da-7c63-42de-978f-7d7ac38f8798"
      },
      "outputs": [
        {
          "output_type": "stream",
          "name": "stdout",
          "text": [
            "Drive already mounted at /content/drive; to attempt to forcibly remount, call drive.mount(\"/content/drive\", force_remount=True).\n"
          ]
        }
      ],
      "source": [
        "#import Google Drive and mount the entire drive\n",
        "\n",
        "from google.colab import drive\n",
        "drive.mount('/content/drive')"
      ]
    },
    {
      "cell_type": "code",
      "execution_count": 49,
      "metadata": {
        "id": "XIBL6egDTXDo",
        "colab": {
          "base_uri": "https://localhost:8080/",
          "height": 417
        },
        "outputId": "bc6c61a5-6870-4b15-8686-fbddf33619ab"
      },
      "outputs": [
        {
          "output_type": "execute_result",
          "data": {
            "text/plain": [
              "'The outlook wasn\\'t brilliant for the Mudville nine that day; \\nThe score stood four to two, with but one inning more to play,\\nAnd then when Cooney died at first, and Barrows did the same,\\nA pall-like silence fell upon the patrons of the game. \\n\\nA straggling few got up to go in deep despair. The rest\\nClung to that hope which springs eternal in the human breast;\\nThey thought, \"If only Casey could but get a whack at that--\\nWe\\'d put up even money now, with Casey at the bat.\" \\n\\nBut Flynn preceded Casey, as did also Jimmy Blake,\\nAnd the former was a lulu, while the latter was a cake;\\nSo upon that stricken multitude grim melancholy sat,\\nFor there seemed but little chance of Casey getting to the bat.\\n\\nBut Flynn let drive a single, to the wonderment of all,\\nAnd Blake, the much despised, tore the cover off the ball;\\nAnd when the dust had lifted, and men saw what had occurred,\\nThere was Jimmy safe at second and Flynn a-hugging third. \\n\\nThen from five thousand throats and more there rose a lusty yell;\\nIt rumbled through the valley, it rattled in the dell;\\nIt pounded on the mountain and recoiled upon the flat,\\nFor Casey, mighty Casey, was advancing to the bat. \\n\\nThere was ease in Casey\\'s manner as he stepped into his place;\\nThere was pride in Casey\\'s bearing and a smile lit Casey\\'s face.\\nAnd when, responding to the cheers, he lightly doffed his hat,\\nNo stranger in the crowd could doubt \\'twas Casey at the bat. \\n\\nTen thousand eyes were on him as he rubbed his hands with dirt;\\nFive thousand tongues applauded when he wiped them on his shirt;\\nThen while the writhing pitcher ground the ball into his hip,\\nDefiance flashed in Casey\\'s eye, a sneer curled Casey\\'s lip. \\n\\nAnd now the leather-covered sphere came hurtling through the air,\\nAnd Casey stood a-watching it in haughty grandeur there.\\nClose by the sturdy batsman the ball unheeded sped--\\n\"That ain\\'t my style,\" said Casey. \"Strike one!\" the umpire said. \\n\\nFrom the benches, black with people, there went up a muffled roar,\\nLike the beating of the storm-waves on a stern and distant shore;\\n\"Kill him! Kill the umpire!\" shouted some one on the stand;\\nAnd it\\'s likely they\\'d have killed him had not Casey raised his hand. \\n\\nWith a smile of Christian charity great Casey\\'s visage shone;\\nHe stilled the rising tumult; he bade the game go on;\\nHe signaled to the pitcher, and once more the dun sphere flew;\\nBut Casey still ignored it, and the umpire said, \"Strike two!\" \\n\\n\"Fraud!\" cried the maddened thousands, and echo answered \"Fraud!\"\\nBut one scornful look from Casey and the audience was awed.\\nThey saw his face grow stern and cold, they saw his muscles strain,\\nAnd they knew that Casey wouldn\\'t let that ball go by again. \\n\\nThe sneer has fled from Casey\\'s lip, his teeth are clenched in hate;\\nHe pounds with cruel violence his bat upon the plate.\\nAnd now the pitcher holds the ball, and now he lets it go.\\nAnd now the air is shattered by the force of Casey\\'s blow. \\n\\nOh, somewhere in this favored land the sun is shining bright;\\nThe band is playing somewhere, and somewhere hearts are light,\\nAnd somewhere men are laughing, and little children shout;\\nBut there is no joy in Mudville--great Casey has struck out\\n'"
            ],
            "application/vnd.google.colaboratory.intrinsic+json": {
              "type": "string"
            }
          },
          "metadata": {},
          "execution_count": 49
        }
      ],
      "source": [
        "#File\n",
        "data= \"\"\n",
        "file_name =r'/content/drive/My Drive/Colab Notebooks/example-text.txt'\n",
        "#Read File\n",
        "with open(file_name, 'r') as file:\n",
        "  data=file.read()\n",
        "data"
      ]
    },
    {
      "cell_type": "code",
      "source": [
        "#1. Extract list of all words.\n",
        "re.findall(r'\\w+',data)"
      ],
      "metadata": {
        "id": "S1O2KzwsXpFF"
      },
      "execution_count": null,
      "outputs": []
    },
    {
      "cell_type": "code",
      "source": [
        "#2. Extract list of all words starting with a capital letter.\n",
        "re.findall(r'[A-Z]\\w+',data)"
      ],
      "metadata": {
        "id": "LjwNy2AkZwkl"
      },
      "execution_count": null,
      "outputs": []
    },
    {
      "cell_type": "code",
      "source": [
        "#3. Extract list of all words of length 5.\n",
        "re.findall(r'\\s\\w{5}\\s',data)"
      ],
      "metadata": {
        "id": "n9FbsExUarkt"
      },
      "execution_count": null,
      "outputs": []
    },
    {
      "cell_type": "code",
      "source": [
        "#4. Extract list of all words inside double quotes.\n",
        "re.findall(r'\\\"w+\\\"',data)  #for words\n",
        "re.findall(r\"\\\"[^\\\"]*\\\"\",data)  #for string"
      ],
      "metadata": {
        "id": "jKlb6R9TbDw-"
      },
      "execution_count": null,
      "outputs": []
    },
    {
      "cell_type": "code",
      "source": [
        "#5. Extract list of all vowels.\n",
        "re.findall(r'\\s[AEIOUaeiou]\\w+\\s',data)"
      ],
      "metadata": {
        "id": "J3RdkGbTgsRZ"
      },
      "execution_count": null,
      "outputs": []
    },
    {
      "cell_type": "code",
      "source": [
        "#6.Extract list of 3 letter words ending with letter ‘e’.\n",
        "re.findall(r'\\s\\w{2}e\\s',data)"
      ],
      "metadata": {
        "id": "bigi8vuti58Q"
      },
      "execution_count": null,
      "outputs": []
    },
    {
      "cell_type": "code",
      "source": [
        "#7. Extract list of all words starting and ending with letter ‘b’.\n",
        "re.findall(r'\\s[d]\\w+[d]\\s',data)"
      ],
      "metadata": {
        "id": "DYcS9IzYnQ0l"
      },
      "execution_count": null,
      "outputs": []
    },
    {
      "cell_type": "code",
      "source": [
        "#8. Remove all the punctuation marks from the text.\n",
        "re.sub('[\\;\\:\\\"\\'\\,\\.\\!\\?\\-\\_]',\"\",data)"
      ],
      "metadata": {
        "id": "jiHuucCEnmo9"
      },
      "execution_count": null,
      "outputs": []
    },
    {
      "cell_type": "code",
      "source": [
        "#9. Replace all words ending ‘n't’ to their full form ‘not’.\n",
        "re.sub('n\\'t',' not',data)"
      ],
      "metadata": {
        "id": "ksB5kMObwiXI"
      },
      "execution_count": null,
      "outputs": []
    },
    {
      "cell_type": "code",
      "source": [
        "#10. Replace all the new lines with a single space.\n",
        "re.sub('\\n',' ',data)"
      ],
      "metadata": {
        "colab": {
          "base_uri": "https://localhost:8080/",
          "height": 417
        },
        "id": "P1gJyappxA-O",
        "outputId": "5d446de6-0a9a-4659-c98d-78191cbd8f4e"
      },
      "execution_count": 105,
      "outputs": [
        {
          "output_type": "execute_result",
          "data": {
            "text/plain": [
              "'The outlook wasn\\'t brilliant for the Mudville nine that day;  The score stood four to two, with but one inning more to play, And then when Cooney died at first, and Barrows did the same, A pall-like silence fell upon the patrons of the game.   A straggling few got up to go in deep despair. The rest Clung to that hope which springs eternal in the human breast; They thought, \"If only Casey could but get a whack at that-- We\\'d put up even money now, with Casey at the bat.\"   But Flynn preceded Casey, as did also Jimmy Blake, And the former was a lulu, while the latter was a cake; So upon that stricken multitude grim melancholy sat, For there seemed but little chance of Casey getting to the bat.  But Flynn let drive a single, to the wonderment of all, And Blake, the much despised, tore the cover off the ball; And when the dust had lifted, and men saw what had occurred, There was Jimmy safe at second and Flynn a-hugging third.   Then from five thousand throats and more there rose a lusty yell; It rumbled through the valley, it rattled in the dell; It pounded on the mountain and recoiled upon the flat, For Casey, mighty Casey, was advancing to the bat.   There was ease in Casey\\'s manner as he stepped into his place; There was pride in Casey\\'s bearing and a smile lit Casey\\'s face. And when, responding to the cheers, he lightly doffed his hat, No stranger in the crowd could doubt \\'twas Casey at the bat.   Ten thousand eyes were on him as he rubbed his hands with dirt; Five thousand tongues applauded when he wiped them on his shirt; Then while the writhing pitcher ground the ball into his hip, Defiance flashed in Casey\\'s eye, a sneer curled Casey\\'s lip.   And now the leather-covered sphere came hurtling through the air, And Casey stood a-watching it in haughty grandeur there. Close by the sturdy batsman the ball unheeded sped-- \"That ain\\'t my style,\" said Casey. \"Strike one!\" the umpire said.   From the benches, black with people, there went up a muffled roar, Like the beating of the storm-waves on a stern and distant shore; \"Kill him! Kill the umpire!\" shouted some one on the stand; And it\\'s likely they\\'d have killed him had not Casey raised his hand.   With a smile of Christian charity great Casey\\'s visage shone; He stilled the rising tumult; he bade the game go on; He signaled to the pitcher, and once more the dun sphere flew; But Casey still ignored it, and the umpire said, \"Strike two!\"   \"Fraud!\" cried the maddened thousands, and echo answered \"Fraud!\" But one scornful look from Casey and the audience was awed. They saw his face grow stern and cold, they saw his muscles strain, And they knew that Casey wouldn\\'t let that ball go by again.   The sneer has fled from Casey\\'s lip, his teeth are clenched in hate; He pounds with cruel violence his bat upon the plate. And now the pitcher holds the ball, and now he lets it go. And now the air is shattered by the force of Casey\\'s blow.   Oh, somewhere in this favored land the sun is shining bright; The band is playing somewhere, and somewhere hearts are light, And somewhere men are laughing, and little children shout; But there is no joy in Mudville--great Casey has struck out '"
            ],
            "application/vnd.google.colaboratory.intrinsic+json": {
              "type": "string"
            }
          },
          "metadata": {},
          "execution_count": 105
        }
      ]
    },
    {
      "cell_type": "code",
      "source": [],
      "metadata": {
        "id": "YaUX3MB7y5Gp"
      },
      "execution_count": null,
      "outputs": []
    }
  ],
  "metadata": {
    "colab": {
      "provenance": []
    },
    "kernelspec": {
      "display_name": "Python 3",
      "name": "python3"
    },
    "language_info": {
      "name": "python"
    }
  },
  "nbformat": 4,
  "nbformat_minor": 0
}